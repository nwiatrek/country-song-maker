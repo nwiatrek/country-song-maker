{
 "cells": [
  {
   "cell_type": "code",
   "execution_count": 17,
   "metadata": {},
   "outputs": [],
   "source": [
    "import lyricsgenius\n",
    "# https://github.com/johnwmillr/lyricsgenius\n",
    "# https://towardsdatascience.com/teaching-an-ai-to-write-pop-music-df38e608020a\n",
    "#brad paisely\n",
    "#tim mcgraw\n",
    "#kenny chesney\n",
    "#Json Aldene"
   ]
  },
  {
   "cell_type": "code",
   "execution_count": 25,
   "metadata": {},
   "outputs": [
    {
     "name": "stdout",
     "output_type": "stream",
     "text": [
      "Searching for songs by Brad paisely...\n",
      "\n",
      "Changing artist name to 'Brad Paisley'\n",
      "Song 1: \"Whiskey Lullaby\"\n",
      "Song 2: \"Accidental Racist\"\n",
      "Song 3: \"Last Time For Everything\"\n",
      "Song 4: \"Perfect Storm\"\n",
      "Song 5: \"She’s Everything\"\n",
      "Song 6: \"I’m Still A Guy\"\n",
      "Song 7: \"Today\"\n",
      "Song 8: \"Then\"\n",
      "Song 9: \"Letter to Me\"\n",
      "Song 10: \"Beat This Summer\"\n",
      "\n",
      "Reached user-specified song limit (10).\n",
      "Done. Found 10 songs.\n",
      "[('Whiskey Lullaby', 'Brad Paisley'), ('Accidental Racist', 'Brad Paisley'), ('Last Time For Everything', 'Brad Paisley'), ('Perfect Storm', 'Brad Paisley'), ('She’s Everything', 'Brad Paisley'), ('I’m Still A Guy', 'Brad Paisley'), ('Today', 'Brad Paisley'), ('Then', 'Brad Paisley'), ('Letter to Me', 'Brad Paisley'), ('Beat This Summer', 'Brad Paisley')]\n"
     ]
    }
   ],
   "source": [
    "genius = lyricsgenius.Genius(\"xMb4W9mFZXDVjBeidWZiVEu45MxdHQ4Gr8DJHEeSkA7TxLGtRMGNay9KmU24qHE1\")\n",
    "brad_paisely = genius.search_artist(\"Brad paisely\", max_songs=10)\n",
    "print(brad_paisely.songs)"
   ]
  },
  {
   "cell_type": "code",
   "execution_count": 24,
   "metadata": {},
   "outputs": [
    {
     "name": "stdout",
     "output_type": "stream",
     "text": [
      "Searching for songs by Tim McGraw...\n",
      "\n",
      "Song 1: \"Humble and Kind\"\n",
      "Song 2: \"Meanwhile Back at Mama’s\"\n",
      "Song 3: \"Live Like You Were Dying\"\n",
      "Song 4: \"Top of the World\"\n",
      "Song 5: \"Shotgun Rider (2014)\"\n",
      "Song 6: \"Highway Don’t Care\"\n",
      "Song 7: \"Don’t Take the Girl\"\n",
      "Song 8: \"I Need You\"\n",
      "Song 9: \"Thought About You\"\n",
      "Song 10: \"Back When\"\n",
      "\n",
      "Reached user-specified song limit (10).\n",
      "Done. Found 10 songs.\n",
      "[('Humble and Kind', 'Tim McGraw'), ('Meanwhile Back at Mama’s', 'Tim McGraw'), ('Live Like You Were Dying', 'Tim McGraw'), ('Top of the World', 'Tim McGraw'), ('Shotgun Rider (2014)', 'Tim McGraw'), ('Highway Don’t Care', 'Tim McGraw'), ('Don’t Take the Girl', 'Tim McGraw'), ('I Need You', 'Tim McGraw'), ('Thought About You', 'Tim McGraw'), ('Back When', 'Tim McGraw')]\n"
     ]
    }
   ],
   "source": [
    "tim_mcgraw = genius.search_artist(\"Tim McGraw\", max_songs=10)\n",
    "print(tim_mcgraw.songs)"
   ]
  },
  {
   "cell_type": "code",
   "execution_count": 26,
   "metadata": {},
   "outputs": [
    {
     "name": "stdout",
     "output_type": "stream",
     "text": [
      "Searching for songs by Kenny Chesney...\n",
      "\n",
      "Song 1: \"Get Along\"\n",
      "Song 2: \"Better Boat\"\n",
      "Song 3: \"American Kids\"\n",
      "Song 4: \"Wild Child\"\n",
      "Song 5: \"Anything But Mine\"\n",
      "Song 6: \"Come Over\"\n",
      "Song 7: \"All the Pretty Girls\"\n",
      "Song 8: \"Setting the World on Fire\"\n",
      "Song 9: \"When the Sun Goes Down\"\n",
      "Song 10: \"The Good Stuff\"\n",
      "\n",
      "Reached user-specified song limit (10).\n",
      "Done. Found 10 songs.\n",
      "[('Get Along', 'Kenny Chesney'), ('Better Boat', 'Kenny Chesney'), ('American Kids', 'Kenny Chesney'), ('Wild Child', 'Kenny Chesney'), ('Anything But Mine', 'Kenny Chesney'), ('Come Over', 'Kenny Chesney'), ('All the Pretty Girls', 'Kenny Chesney'), ('Setting the World on Fire', 'Kenny Chesney'), ('When the Sun Goes Down', 'Kenny Chesney'), ('The Good Stuff', 'Kenny Chesney')]\n"
     ]
    }
   ],
   "source": [
    "kenny_chesney = genius.search_artist(\"Kenny Chesney\", max_songs=10)\n",
    "print(kenny_chesney.songs)"
   ]
  },
  {
   "cell_type": "code",
   "execution_count": 28,
   "metadata": {},
   "outputs": [
    {
     "name": "stdout",
     "output_type": "stream",
     "text": [
      "Searching for songs by Jason Aldean...\n",
      "\n",
      "Song 1: \"You Make It Easy\"\n",
      "Song 2: \"Big Green Tractor\"\n",
      "Song 3: \"Dirt Road Anthem\"\n",
      "Song 4: \"Girl Like You\"\n",
      "Song 5: \"Drowns the Whiskey\"\n",
      "Song 6: \"Burnin’ It Down\"\n",
      "Song 7: \"Rearview Town\"\n",
      "Song 8: \"Any Ol’ Barstool\"\n",
      "Song 9: \"The Truth\"\n",
      "Song 10: \"I’ll Wait for You\"\n",
      "\n",
      "Reached user-specified song limit (10).\n",
      "Done. Found 10 songs.\n",
      "[('You Make It Easy', 'Jason Aldean'), ('Big Green Tractor', 'Jason Aldean'), ('Dirt Road Anthem', 'Jason Aldean'), ('Girl Like You', 'Jason Aldean'), ('Drowns the Whiskey', 'Jason Aldean'), ('Burnin’ It Down', 'Jason Aldean'), ('Rearview Town', 'Jason Aldean'), ('Any Ol’ Barstool', 'Jason Aldean'), ('The Truth', 'Jason Aldean'), ('I’ll Wait for You', 'Jason Aldean')]\n"
     ]
    }
   ],
   "source": [
    "jason_aldean = genius.search_artist(\"Jason Aldean\", max_songs=10)\n",
    "print(jason_aldean.songs)"
   ]
  },
  {
   "cell_type": "code",
   "execution_count": null,
   "metadata": {},
   "outputs": [],
   "source": []
  }
 ],
 "metadata": {
  "kernelspec": {
   "display_name": "Python 3",
   "language": "python",
   "name": "python3"
  },
  "language_info": {
   "codemirror_mode": {
    "name": "ipython",
    "version": 3
   },
   "file_extension": ".py",
   "mimetype": "text/x-python",
   "name": "python",
   "nbconvert_exporter": "python",
   "pygments_lexer": "ipython3",
   "version": "3.7.4"
  }
 },
 "nbformat": 4,
 "nbformat_minor": 2
}
