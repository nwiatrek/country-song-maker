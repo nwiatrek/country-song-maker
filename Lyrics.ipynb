{
 "cells": [
  {
   "cell_type": "code",
   "execution_count": 1,
   "metadata": {},
   "outputs": [],
   "source": [
    "import lyricsgenius\n",
    "# https://github.com/johnwmillr/lyricsgenius\n",
    "# https://towardsdatascience.com/teaching-an-ai-to-write-pop-music-df38e608020a\n",
    "#brad paisely\n",
    "#tim mcgraw\n",
    "#kenny chesney\n",
    "#Json Aldene"
   ]
  },
  {
   "cell_type": "code",
   "execution_count": 2,
   "metadata": {},
   "outputs": [
    {
     "name": "stdout",
     "output_type": "stream",
     "text": [
      "Searching for songs by Brad paisely...\n",
      "\n",
      "Changing artist name to 'Brad Paisley'\n",
      "Song 1: \"Whiskey Lullaby\"\n",
      "Song 2: \"Accidental Racist\"\n",
      "Song 3: \"Last Time For Everything\"\n",
      "Song 4: \"Perfect Storm\"\n",
      "Song 5: \"She’s Everything\"\n",
      "Song 6: \"I’m Still A Guy\"\n",
      "Song 7: \"Today\"\n",
      "Song 8: \"Then\"\n",
      "Song 9: \"Letter to Me\"\n",
      "Song 10: \"Beat This Summer\"\n",
      "\n",
      "Reached user-specified song limit (10).\n",
      "Done. Found 10 songs.\n",
      "[('Whiskey Lullaby', 'Brad Paisley'), ('Accidental Racist', 'Brad Paisley'), ('Last Time For Everything', 'Brad Paisley'), ('Perfect Storm', 'Brad Paisley'), ('She’s Everything', 'Brad Paisley'), ('I’m Still A Guy', 'Brad Paisley'), ('Today', 'Brad Paisley'), ('Then', 'Brad Paisley'), ('Letter to Me', 'Brad Paisley'), ('Beat This Summer', 'Brad Paisley')]\n"
     ]
    }
   ],
   "source": [
    "genius = lyricsgenius.Genius(\"xMb4W9mFZXDVjBeidWZiVEu45MxdHQ4Gr8DJHEeSkA7TxLGtRMGNay9KmU24qHE1\")\n",
    "brad_paisely = genius.search_artist(\"Brad paisely\", max_songs=10)\n",
    "print(brad_paisely.songs)"
   ]
  },
  {
   "cell_type": "code",
   "execution_count": 3,
   "metadata": {},
   "outputs": [
    {
     "name": "stdout",
     "output_type": "stream",
     "text": [
      "Searching for songs by Tim McGraw...\n",
      "\n",
      "Song 1: \"Humble and Kind\"\n",
      "Song 2: \"Meanwhile Back at Mama’s\"\n",
      "Song 3: \"Live Like You Were Dying\"\n",
      "Song 4: \"Top of the World\"\n",
      "Song 5: \"Shotgun Rider (2014)\"\n",
      "Song 6: \"Highway Don’t Care\"\n",
      "Song 7: \"Don’t Take the Girl\"\n",
      "Song 8: \"I Need You\"\n",
      "Song 9: \"Thought About You\"\n",
      "Song 10: \"Back When\"\n",
      "\n",
      "Reached user-specified song limit (10).\n",
      "Done. Found 10 songs.\n",
      "[('Humble and Kind', 'Tim McGraw'), ('Meanwhile Back at Mama’s', 'Tim McGraw'), ('Live Like You Were Dying', 'Tim McGraw'), ('Top of the World', 'Tim McGraw'), ('Shotgun Rider (2014)', 'Tim McGraw'), ('Highway Don’t Care', 'Tim McGraw'), ('Don’t Take the Girl', 'Tim McGraw'), ('I Need You', 'Tim McGraw'), ('Thought About You', 'Tim McGraw'), ('Back When', 'Tim McGraw')]\n"
     ]
    }
   ],
   "source": [
    "tim_mcgraw = genius.search_artist(\"Tim McGraw\", max_songs=10)\n",
    "print(tim_mcgraw.songs)"
   ]
  },
  {
   "cell_type": "code",
   "execution_count": 4,
   "metadata": {},
   "outputs": [
    {
     "name": "stdout",
     "output_type": "stream",
     "text": [
      "Searching for songs by Kenny Chesney...\n",
      "\n",
      "Song 1: \"Get Along\"\n",
      "Song 2: \"Better Boat\"\n",
      "Song 3: \"American Kids\"\n",
      "Song 4: \"Wild Child\"\n",
      "Song 5: \"Anything But Mine\"\n",
      "Song 6: \"Come Over\"\n",
      "Song 7: \"All the Pretty Girls\"\n",
      "Song 8: \"Setting the World on Fire\"\n",
      "Song 9: \"When the Sun Goes Down\"\n",
      "Song 10: \"The Good Stuff\"\n",
      "\n",
      "Reached user-specified song limit (10).\n",
      "Done. Found 10 songs.\n",
      "[('Get Along', 'Kenny Chesney'), ('Better Boat', 'Kenny Chesney'), ('American Kids', 'Kenny Chesney'), ('Wild Child', 'Kenny Chesney'), ('Anything But Mine', 'Kenny Chesney'), ('Come Over', 'Kenny Chesney'), ('All the Pretty Girls', 'Kenny Chesney'), ('Setting the World on Fire', 'Kenny Chesney'), ('When the Sun Goes Down', 'Kenny Chesney'), ('The Good Stuff', 'Kenny Chesney')]\n"
     ]
    }
   ],
   "source": [
    "kenny_chesney = genius.search_artist(\"Kenny Chesney\", max_songs=10)\n",
    "print(kenny_chesney.songs)"
   ]
  },
  {
   "cell_type": "code",
   "execution_count": 5,
   "metadata": {},
   "outputs": [
    {
     "name": "stdout",
     "output_type": "stream",
     "text": [
      "Searching for songs by Jason Aldean...\n",
      "\n",
      "Song 1: \"You Make It Easy\"\n",
      "Song 2: \"Big Green Tractor\"\n",
      "Song 3: \"Dirt Road Anthem\"\n",
      "Song 4: \"Girl Like You\"\n",
      "Song 5: \"Drowns the Whiskey\"\n",
      "Song 6: \"Burnin’ It Down\"\n",
      "Song 7: \"Rearview Town\"\n",
      "Song 8: \"Any Ol’ Barstool\"\n",
      "Song 9: \"The Truth\"\n",
      "Song 10: \"I’ll Wait for You\"\n",
      "\n",
      "Reached user-specified song limit (10).\n",
      "Done. Found 10 songs.\n",
      "[('You Make It Easy', 'Jason Aldean'), ('Big Green Tractor', 'Jason Aldean'), ('Dirt Road Anthem', 'Jason Aldean'), ('Girl Like You', 'Jason Aldean'), ('Drowns the Whiskey', 'Jason Aldean'), ('Burnin’ It Down', 'Jason Aldean'), ('Rearview Town', 'Jason Aldean'), ('Any Ol’ Barstool', 'Jason Aldean'), ('The Truth', 'Jason Aldean'), ('I’ll Wait for You', 'Jason Aldean')]\n"
     ]
    }
   ],
   "source": [
    "jason_aldean = genius.search_artist(\"Jason Aldean\", max_songs=10)\n",
    "print(jason_aldean.songs)"
   ]
  },
  {
   "cell_type": "code",
   "execution_count": 6,
   "metadata": {},
   "outputs": [
    {
     "name": "stdout",
     "output_type": "stream",
     "text": [
      "Wrote Whiskey Lullaby to lyrics_bradpaisley_whiskeylullaby.json.\n",
      "Wrote Accidental Racist to lyrics_bradpaisley_accidentalracist.json.\n",
      "Wrote Last Time For Everything to lyrics_bradpaisley_lasttimeforeverything.json.\n",
      "Wrote Perfect Storm to lyrics_bradpaisley_perfectstorm.json.\n",
      "Wrote She’s Everything to lyrics_bradpaisley_sheseverything.json.\n",
      "Wrote I’m Still A Guy to lyrics_bradpaisley_imstillaguy.json.\n",
      "Wrote Today to lyrics_bradpaisley_today.json.\n",
      "Wrote Then to lyrics_bradpaisley_then.json.\n",
      "Wrote Letter to Me to lyrics_bradpaisley_lettertome.json.\n",
      "Wrote Beat This Summer to lyrics_bradpaisley_beatthissummer.json.\n",
      "Wrote Get Along to lyrics_kennychesney_getalong.json.\n",
      "Wrote Better Boat to lyrics_kennychesney_betterboat.json.\n",
      "Wrote American Kids to lyrics_kennychesney_americankids.json.\n",
      "Wrote Wild Child to lyrics_kennychesney_wildchild.json.\n",
      "Wrote Anything But Mine to lyrics_kennychesney_anythingbutmine.json.\n",
      "Wrote Come Over to lyrics_kennychesney_comeover.json.\n",
      "Wrote All the Pretty Girls to lyrics_kennychesney_alltheprettygirls.json.\n",
      "Wrote Setting the World on Fire to lyrics_kennychesney_settingtheworldonfire.json.\n",
      "Wrote When the Sun Goes Down to lyrics_kennychesney_whenthesungoesdown.json.\n",
      "Wrote The Good Stuff to lyrics_kennychesney_thegoodstuff.json.\n",
      "Wrote Humble and Kind to lyrics_timmcgraw_humbleandkind.json.\n",
      "Wrote Meanwhile Back at Mama’s to lyrics_timmcgraw_meanwhilebackatmamas.json.\n",
      "Wrote Live Like You Were Dying to lyrics_timmcgraw_livelikeyouweredying.json.\n",
      "Wrote Top of the World to lyrics_timmcgraw_topoftheworld.json.\n",
      "Wrote Shotgun Rider (2014) to lyrics_timmcgraw_shotgunrider2014.json.\n",
      "Wrote Highway Don’t Care to lyrics_timmcgraw_highwaydontcare.json.\n",
      "Wrote Don’t Take the Girl to lyrics_timmcgraw_donttakethegirl.json.\n",
      "Wrote I Need You to lyrics_timmcgraw_ineedyou.json.\n",
      "Wrote Thought About You to lyrics_timmcgraw_thoughtaboutyou.json.\n",
      "Wrote Back When to lyrics_timmcgraw_backwhen.json.\n",
      "Wrote You Make It Easy to lyrics_jasonaldean_youmakeiteasy.json.\n",
      "Wrote Big Green Tractor to lyrics_jasonaldean_biggreentractor.json.\n",
      "Wrote Dirt Road Anthem to lyrics_jasonaldean_dirtroadanthem.json.\n",
      "Wrote Girl Like You to lyrics_jasonaldean_girllikeyou.json.\n",
      "Wrote Drowns the Whiskey to lyrics_jasonaldean_drownsthewhiskey.json.\n",
      "Wrote Burnin’ It Down to lyrics_jasonaldean_burninitdown.json.\n",
      "Wrote Rearview Town to lyrics_jasonaldean_rearviewtown.json.\n",
      "Wrote Any Ol’ Barstool to lyrics_jasonaldean_anyolbarstool.json.\n",
      "Wrote The Truth to lyrics_jasonaldean_thetruth.json.\n",
      "Wrote I’ll Wait for You to lyrics_jasonaldean_illwaitforyou.json.\n"
     ]
    }
   ],
   "source": [
    "# save the lyrics of the first four artists\n",
    "artists = [brad_paisely, kenny_chesney, tim_mcgraw, jason_aldean]\n",
    "\n",
    "for artist in artists:\n",
    "    artist.save_lyrics()"
   ]
  },
  {
   "cell_type": "code",
   "execution_count": 24,
   "metadata": {},
   "outputs": [
    {
     "name": "stdout",
     "output_type": "stream",
     "text": [
      "[\"[Verse 1: Brad Paisley]\\nShe put him out\\nLike the burning end of a midnight cigarette\\nShe broke his heart\\nHe spent his whole life tryin' to forget\\nWe watched him drink his pain away\\nA little at a time\\nBut he never could get drunk enough\\nTo get her off his mind\\nUntil the night...\", '[Chorus: Brad Paisley & Alison Krauss ]\\nHe put that bottle to his head and pulled the trigger\\nAnd finally drank away her memory\\nLife is short, but this time it was bigger\\nThan the strength he had to get up off his knees\\nWe found him with his face down in the pillow\\nWith a note that said, \"I\\'ll love her \\'til I die\"\\nAnd when we buried him beneath the willow\\nThe Angels sang a whiskey lullaby', '[Break: Brad Paisley & Alison Krauss]\\nLa la la la la la la, la la la la la la laa\\nLa la la la la la la, la la la la la la laa', '[Verse 2: Alison Krauss]\\nThe rumors flew\\nBut nobody knew how much she blamed herself\\nFor years and years\\nShe tried to hide the whiskey on her breath\\nShe finally drank her pain away\\nA little at a time\\nBut she never could get drunk enough\\nTo get him off her mind\\nUntil the night...', '[Chorus: Brad Paisley & Alison Krauss]\\nShe put that bottle to her head and pulled the trigger\\nAnd finally drank away his memory\\nLife is short, but this time it was bigger\\nThan the strength she had to get up off her knees\\nWe found her with her face down in the pillow\\nClinging to his picture for dear life\\nWe laid her next to him beneath the willow\\nWhile the Angels sang a whiskey lullaby', '[Outro: Brad Paisley & Alison Krauss]\\nLa la la la la la la, la la la la la la laa\\nLa la la la la la la, la la la la la la laa\\nLa la la la la la la, la la la la la la laa\\nLa la la la la la la, la la la la la la laa']\n"
     ]
    }
   ],
   "source": [
    "# now for dealing with the json data\n",
    "import json\n",
    "\n",
    "\n",
    "with open('lyrics_bradpaisley_whiskeylullaby.json', 'r') as f:\n",
    "    whiskey_lullaby = json.load(f)\n",
    "    \n",
    "# the json file is kinda odd looking\n",
    "print(whiskey_lullaby['songs'][0]['lyrics'].split('\\n\\n'))"
   ]
  },
  {
   "cell_type": "code",
   "execution_count": 50,
   "metadata": {},
   "outputs": [],
   "source": [
    "import re\n",
    "def split_by_verse(song):\n",
    "    verse_name = re.compile(r'^\\[.+\\]')\n",
    "    versus = song['songs'][0]['lyrics'].split('\\n\\n')\n",
    "    cleaned_verses = []\n",
    "    for verse in versus:\n",
    "        verse = verse_name.sub(\"\", verse)\n",
    "        cleaned_verses.append(verse)\n",
    "    return cleaned_verses"
   ]
  },
  {
   "cell_type": "code",
   "execution_count": 25,
   "metadata": {},
   "outputs": [
    {
     "name": "stdout",
     "output_type": "stream",
     "text": [
      "{'songs': [{'title': 'Whiskey Lullaby', 'album': 'Mud on the Tires', 'year': '2004-03-29', 'lyrics': '[Verse 1: Brad Paisley]\\nShe put him out\\nLike the burning end of a midnight cigarette\\nShe broke his heart\\nHe spent his whole life tryin\\' to forget\\nWe watched him drink his pain away\\nA little at a time\\nBut he never could get drunk enough\\nTo get her off his mind\\nUntil the night...\\n\\n[Chorus: Brad Paisley & Alison Krauss ]\\nHe put that bottle to his head and pulled the trigger\\nAnd finally drank away her memory\\nLife is short, but this time it was bigger\\nThan the strength he had to get up off his knees\\nWe found him with his face down in the pillow\\nWith a note that said, \"I\\'ll love her \\'til I die\"\\nAnd when we buried him beneath the willow\\nThe Angels sang a whiskey lullaby\\n\\n[Break: Brad Paisley & Alison Krauss]\\nLa la la la la la la, la la la la la la laa\\nLa la la la la la la, la la la la la la laa\\n\\n[Verse 2: Alison Krauss]\\nThe rumors flew\\nBut nobody knew how much she blamed herself\\nFor years and years\\nShe tried to hide the whiskey on her breath\\nShe finally drank her pain away\\nA little at a time\\nBut she never could get drunk enough\\nTo get him off her mind\\nUntil the night...\\n\\n[Chorus: Brad Paisley & Alison Krauss]\\nShe put that bottle to her head and pulled the trigger\\nAnd finally drank away his memory\\nLife is short, but this time it was bigger\\nThan the strength she had to get up off her knees\\nWe found her with her face down in the pillow\\nClinging to his picture for dear life\\nWe laid her next to him beneath the willow\\nWhile the Angels sang a whiskey lullaby\\n\\n[Outro: Brad Paisley & Alison Krauss]\\nLa la la la la la la, la la la la la la laa\\nLa la la la la la la, la la la la la la laa\\nLa la la la la la la, la la la la la la laa\\nLa la la la la la la, la la la la la la laa', 'image': 'https://images.genius.com/e4d9f7d51a5a61b5003057d21b1032d2.600x600x1.jpg'}], 'artist': 'Brad Paisley'}\n"
     ]
    }
   ],
   "source": [
    "print(whiskey_lullaby)"
   ]
  },
  {
   "cell_type": "code",
   "execution_count": 51,
   "metadata": {},
   "outputs": [],
   "source": [
    "versus = split_by_verse(whiskey_lullaby)"
   ]
  },
  {
   "cell_type": "code",
   "execution_count": 54,
   "metadata": {},
   "outputs": [
    {
     "data": {
      "text/plain": [
       "\"\\nShe put him out\\nLike the burning end of a midnight cigarette\\nShe broke his heart\\nHe spent his whole life tryin' to forget\\nWe watched him drink his pain away\\nA little at a time\\nBut he never could get drunk enough\\nTo get her off his mind\\nUntil the night...\""
      ]
     },
     "execution_count": 54,
     "metadata": {},
     "output_type": "execute_result"
    }
   ],
   "source": [
    "versus[0]"
   ]
  },
  {
   "cell_type": "raw",
   "metadata": {},
   "source": []
  }
 ],
 "metadata": {
  "kernelspec": {
   "display_name": "Python 3",
   "language": "python",
   "name": "python3"
  },
  "language_info": {
   "codemirror_mode": {
    "name": "ipython",
    "version": 3
   },
   "file_extension": ".py",
   "mimetype": "text/x-python",
   "name": "python",
   "nbconvert_exporter": "python",
   "pygments_lexer": "ipython3",
   "version": "3.7.4"
  }
 },
 "nbformat": 4,
 "nbformat_minor": 2
}
